{
 "cells": [
  {
   "cell_type": "code",
   "execution_count": null,
   "metadata": {},
   "outputs": [],
   "source": [
    "# Q1. What are the key steps involved in building an end-to-end web application, from development to\n",
    "# deployment on the cloud?\n",
    "\n",
    "\"\"\"DATA COLLECTION--first step is the data collection .Data collection may be from a particlat website or survey or database .\n",
    "\n",
    "EDA---the second step is the eda in eda first we clean the data and then we use techniques to explore the pattern in data .\n",
    "\n",
    "FEATURE ENGINEERING- In feature engineering we convert the catagorical data to the numerical data we also find the missing values .\n",
    "Impute the missing values using mean median mode imputation technique\n",
    "\n",
    "FEATURE SELECTION -IN the feature selection only the most important feature is selected and the rest is discarded.\n",
    "\n",
    "MODEL TRAINING - In the model training we train the model and choose which gives the best output , then we create pickle file \n",
    "that has scaler.pkl and the model.pkl file \n",
    "\n",
    "WEB APP- we will create the web app that will interact with the pkl file and the input data through Web -form .\n",
    "After caculating in the backend it will show output in the frontend  \n",
    "\n",
    "DEPLOYMENT - The last thing is the deployment .The deployment is done either on the amazon web servieses or the azure web\n",
    "services  \"\"\""
   ]
  },
  {
   "cell_type": "code",
   "execution_count": null,
   "metadata": {},
   "outputs": [],
   "source": [
    "# Q2. Explain the difference between traditional web hosting and cloud hosting.\n",
    "\"\"\"It is the practice of hosting a website on a single physical server , this physical server is also hosts \n",
    "other websites the physical infrastructure is of a particular data centre \n",
    "\n",
    "On the other hand in the cloud computing the network of interconnected servers . The resource of the cpu, ram and \n",
    "the storage is dynamically allocated .Cloud hosting allows to upscale and down scale the services \n",
    "\n",
    "\n",
    "(1) the traditional webhosting is not scalable on the other hand the cloud hosting is scalable \n",
    "(2)The traditional web hosting is costly and the cloud hosting is cost effective \n",
    "(3)The cloud hosting is often reliable due to their distributed nature of the resource \n",
    "(4)BOTH essentially provides the safety features but the cloud hosting feature is more robust \"\"\""
   ]
  },
  {
   "cell_type": "code",
   "execution_count": null,
   "metadata": {},
   "outputs": [],
   "source": [
    "# Q3. How do you choose the right cloud provider for your application deployment, and what factors\n",
    "# should you consider?\n",
    "\"\"\"(1) First check the past performance of the service provider . Make sure the service provided is high performance with low leg \n",
    "(2)Check whether the service provided by the network provide is scalable or not \n",
    "(3)check for the reliability and the avaialaibity of the service \n",
    "(4)make sure the cloud provider has security measures in place including the firewall and the intrusion control \n",
    "(5)check the budget , if the budget fits your pocket and the requirement \n",
    "(6)make sure the cloud provider has 24 in to 7 serice avaialiable \n",
    "(7)make sure that the database the tools and the technologies that is being provided match with your reuirements \n",
    "(8)look for the user experience and the reviews from the authentic source \"\"\""
   ]
  },
  {
   "cell_type": "code",
   "execution_count": null,
   "metadata": {},
   "outputs": [],
   "source": [
    "# Q4. How do you design and build a responsive user interface for your web application, and what are\n",
    "# some best practices to follow?\n",
    "\"\"\"Designing a responsive interface requires the following :-\n",
    "(1)Use a design responsive framwork like the bootstrap .\n",
    "\n",
    "(2)start designing for the mobile first and customize for the larger screen as it is more difficult to make the other way round .\n",
    "\n",
    "(3)prority content must be higlighted , bold and styled .\n",
    "\n",
    "(4)use responsive image \n",
    "\n",
    "(5)use breakpoint to style for the diffrent screen size .\n",
    "\n",
    "\"\"\""
   ]
  },
  {
   "cell_type": "code",
   "execution_count": null,
   "metadata": {},
   "outputs": [],
   "source": [
    "# Q5. How do you integrate the machine learning model with the user interface for the Algerian Forest Fires\n",
    "# project(which we discussed in class), and what APIs or libraries can you use for this purpose?\n",
    "\"\"\"(1)flask api = flask is a ligth python basee framework that can be used for integrating the machine learning algorithm \n",
    " \n",
    " (2)tensorflow- is a javascript library that is used for running the machine learning algorithm in the browser , the data can be passed on \n",
    " the browser in the real time and output can be seen i the real time \n",
    " \n",
    " (3)goole cloud api platform - this platform is provided by the google it is used for building training and deploying the machine learning models \n",
    " \n",
    " \n",
    " (4)Aws sage maker- this platform is provided by the amazon  it is used for building training and deploying the machine learning models \n",
    " \"\"\""
   ]
  }
 ],
 "metadata": {
  "language_info": {
   "name": "python"
  },
  "orig_nbformat": 4
 },
 "nbformat": 4,
 "nbformat_minor": 2
}
